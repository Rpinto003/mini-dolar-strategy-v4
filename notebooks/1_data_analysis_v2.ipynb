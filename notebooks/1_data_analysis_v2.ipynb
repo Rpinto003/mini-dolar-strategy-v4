{
  "cells": [
    {
      "cell_type": "markdown",
      "metadata": {},
      "source": [
        "# Mini Dollar Strategy - Data Analysis and Technical Indicators\n",
        "\n",
        "This notebook demonstrates:\n",
        "1. Loading market data\n",
        "2. Exploratory data analysis\n",
        "3. Technical indicators calculation\n",
        "4. Pattern visualization"
      ]
    },
    {
      "cell_type": "code",
      "execution_count": null,
      "metadata": {},
      "source": [
        "import sys\n",
        "sys.path.append('..')\n",
        "\n",
        "import pandas as pd\n",
        "import numpy as np\n",
        "import matplotlib.pyplot as plt\n",
        "import seaborn as sns\n",
        "from datetime import datetime, timedelta\n",
        "\n",
        "from src.data.loaders.market_data import MarketDataLoader\n",
        "from src.analysis.technical.strategy import TechnicalStrategy\n",
        "\n",
        "# Configure plotting\n",
        "plt.style.use('seaborn')\n",
        "plt.rcParams['figure.figsize'] = [12, 6]\n",
        "sns.set_palette('Set2')"
      ]
    },
    {
      "cell_type": "markdown",
      "metadata": {},
      "source": [
        "## 1. Load and Prepare Market Data"
      ]
    },
    {
      "cell_type": "code",
      "execution_count": null,
      "metadata": {},
      "source": [
        "# Initialize components\n",
        "loader = MarketDataLoader()\n",
        "\n",
        "# Load last 6 months of data\n",
        "end_date = datetime.now()\n",
        "start_date = end_date - timedelta(days=180)\n",
        "\n",
        "data = loader.load_data(\n",
        "    start_date=start_date.strftime('%Y-%m-%d'),\n",
        "    end_date=end_date.strftime('%Y-%m-%d'),\n",
        "    timeframe='5T'\n",
        ")\n",
        "\n",
        "print(f\"Loaded {len(data)} candles\")\n",
        "data.head()"
      ]
    },
    {
      "cell_type": "markdown",
      "metadata": {},
      "source": [
        "### Data Quality Analysis"
      ]
    },
    {
      "cell_type": "code",
      "execution_count": null,
      "metadata": {},
      "source": [
        "def analyze_data_quality(df):\n",
        "    \"\"\"Analyze data quality and print report.\"\"\"\n",
        "    print(\"Data Quality Report:\\n\")\n",
        "    \n",
        "    # Basic information\n",
        "    print(\"1. Basic Information:\")\n",
        "    print(f\"Total records: {len(df)}\")\n",
        "    print(f\"Date range: {df.index.min()} to {df.index.max()}\")\n",
        "    print(f\"Columns: {', '.join(df.columns)}\\n\")\n",
        "    \n",
        "    # Missing values\n",
        "    print(\"2. Missing Values:\")\n",
        "    missing = df.isnull().sum()\n",
        "    if missing.sum() > 0:\n",
        "        print(missing[missing > 0])\n",
        "    else:\n",
        "        print(\"No missing values found\\n\")\n",
        "    \n",
        "    # Data statistics\n",
        "    print(\"3. Data Statistics:\")\n",
        "    print(df.describe())\n",
        "\n",
        "# Run analysis\n",
        "analyze_data_quality(data)"
      ]
    },
    {
      "cell_type": "markdown",
      "metadata": {},
      "source": [
        "## 2. Calculate Technical Indicators"
      ]
    },
    {
      "cell_type": "code",
      "execution_count": null,
      "metadata": {},
      "source": [
        "# Initialize strategy\n",
        "strategy = TechnicalStrategy()\n",
        "\n",
        "# Calculate indicators\n",
        "analysis = strategy.calculate_indicators(data)\n",
        "\n",
        "# Show available indicators\n",
        "print(\"Available indicators:\")\n",
        "indicators = [col for col in analysis.columns if col not in ['open', 'high', 'low', 'close', 'volume']]\n",
        "print(indicators)\n",
        "analysis.head()"
      ]
    },
    {
      "cell_type": "markdown",
      "metadata": {},
      "source": [
        "## 3. Visualize Price Action and Indicators"
      ]
    },
    {
      "cell_type": "code",
      "execution_count": null,
      "metadata": {},
      "source": [
        "def plot_price_and_indicators(df, window=500):\n",
        "    \"\"\"Plot comprehensive price and indicator analysis.\"\"\"\n",
        "    recent = df.tail(window)\n",
        "    \n",
        "    # Create figure with subplots\n",
        "    fig = plt.figure(figsize=(15, 12))\n",
        "    \n",
        "    # 1. Price and Moving Averages\n",
        "    ax1 = plt.subplot(3, 1, 1)\n",
        "    ax1.plot(recent.index, recent['close'], label='Price', alpha=0.8)\n",
        "    ax1.plot(recent.index, recent['ma_fast'], label='Fast MA', alpha=0.7)\n",
        "    ax1.plot(recent.index, recent['ma_slow'], label='Slow MA', alpha=0.7)\n",
        "    ax1.plot(recent.index, recent['bb_upper'], 'k--', label='BB Upper', alpha=0.5)\n",
        "    ax1.plot(recent.index, recent['bb_lower'], 'k--', label='BB Lower', alpha=0.5)\n",
        "    ax1.set_title('Price Action with Indicators')\n",
        "    ax1.legend()\n",
        "    ax1.grid(True)\n",
        "    \n",
        "    # 2. RSI\n",
        "    ax2 = plt.subplot(3, 1, 2)\n",
        "    ax2.plot(recent.index, recent['rsi'])\n",
        "    ax2.axhline(y=70, color='r', linestyle='--')\n",
        "    ax2.axhline(y=30, color='g', linestyle='--')\n",
        "    ax2.set_title('RSI')\n",
        "    ax2.grid(True)\n",
        "    \n",
        "    # 3. MACD\n",
        "    ax3 = plt.subplot(3, 1, 3)\n",
        "    ax3.plot(recent.index, recent['macd'], label='MACD')\n",
        "    ax3.plot(recent.index, recent['macd_signal'], label='Signal')\n",
        "    ax3.bar(recent.index, recent['macd_hist'], alpha=0.3, label='Histogram')\n",
        "    ax3.set_title('MACD')\n",
        "    ax3.legend()\n",
        "    ax3.grid(True)\n",
        "    \n",
        "    plt.tight_layout()\n",
        "    plt.show()\n",
        "\n",
        "# Plot analysis\n",
        "plot_price_and_indicators(analysis)"
      ]
    },
    {
      "cell_type": "markdown",
      "metadata": {},
      "source": [
        "## 4. Analyze Potential Trading Signals"
      ]
    },
    {
      "cell_type": "code",
      "execution_count": null,
      "metadata": {},
      "source": [
        "# Generate trading signals\n",
        "signals = strategy.generate_signals(analysis)\n",
        "\n",
        "def analyze_trading_signals(df):\n",
        "    \"\"\"Analyze generated trading signals.\"\"\"\n",
        "    # Count signals\n",
        "    signal_counts = df['final_signal'].value_counts()\n",
        "    print(\"Signal Distribution:\")\n",
        "    print(f\"Buy signals (1): {signal_counts.get(1, 0)}\")\n",
        "    print(f\"Sell signals (-1): {signal_counts.get(-1, 0)}\")\n",
        "    print(f\"Neutral (0): {signal_counts.get(0, 0)}\\n\")\n",
        "    \n",
        "    # Signal transitions\n",
        "    transitions = df['final_signal'].diff().value_counts()\n",
        "    print(\"Signal Transitions:\")\n",
        "    print(transitions)\n",
        "\n",
        "# Analyze signals\n",
        "analyze_trading_signals(signals)\n",
        "\n",
        "# Plot recent signals\n",
        "recent = signals.tail(100)\n",
        "plt.figure(figsize=(15, 6))\n",
        "plt.plot(recent.index, recent['close'], label='Price')\n",
        "plt.scatter(recent[recent['final_signal'] == 1].index, \\\n",
        "            recent[recent['final_signal'] == 1]['close'],\n",
        "            marker='^', c='g', s=100, label='Buy')\n",
        "plt.scatter(recent[recent['final_signal'] == -1].index,\n",
        "            recent[recent['final_signal'] == -1]['close'],\n",
        "            marker='v', c='r', s=100, label='Sell')\n",
        "plt.title('Recent Trading Signals')\n",
        "plt.legend()\n",
        "plt.grid(True)\n",
        "plt.show()"
      ]
    }
  ],
  "metadata": {
    "kernelspec": {
      "display_name": "Python 3",
      "language": "python",
      "name": "python3"
    },
    "language_info": {
      "codemirror_mode": {
        "name": "ipython",
        "version": 3
      },
      "file_extension": ".py",
      "mimetype": "text/x-python",
      "name": "python",
      "nbconvert_exporter": "python",
      "pygments_lexer": "ipython3",
      "version": "3.8.0"
    }
  },
  "nbformat": 4,
  "nbformat_minor": 4
}
