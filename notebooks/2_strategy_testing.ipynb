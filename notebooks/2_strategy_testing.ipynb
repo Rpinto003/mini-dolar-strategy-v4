{
 "cells": [
  {
   "cell_type": "markdown",
   "metadata": {},
   "source": [
    "# Mini Dollar Strategy - Strategy Testing and Optimization\n",
    "\n",
    "This notebook performs backtesting and optimization of the trading strategy."
   ]
  },
  {
   "cell_type": "code",
   "execution_count": null,
   "metadata": {},
   "source": [
    "import sys\n",
    "sys.path.append('..')\n",
    "\n",
    "import pandas as pd\n",
    "import numpy as np\n",
    "import matplotlib.pyplot as plt\n",
    "import seaborn as sns\n",
    "\n",
    "from src.data.loaders.market_data import MarketDataLoader\n",
    "from src.analysis.technical.strategy import TechnicalStrategy\n",
    "\n",
    "# Configure plotting\n",
    "plt.style.use('seaborn')\n",
    "sns.set_palette('Set2')"
   ]
  },
  {
   "cell_type": "markdown",
   "metadata": {},
   "source": [
    "## 1. Load and Prepare Data"
   ]
  },
  {
   "cell_type": "code",
   "execution_count": null,
   "metadata": {},
   "source": [
    "# Initialize components\n",
    "loader = MarketDataLoader()\n",
    "strategy = TechnicalStrategy()\n",
    "\n",
    "# Load data\n",
    "data = loader.load_data(\n",
    "    start_date='2023-01-01',\n",
    "    end_date='2023-12-31',\n",
    "    timeframe='5T'\n",
    ")\n",
    "\n",
    "# Calculate indicators\n",
    "data = strategy.calculate_indicators(data)\n",
    "data = strategy.generate_signals(data)\n",
    "\n",
    "print(f\"Prepared {len(data)} records for analysis\")"
   ]
  }
 ]
}