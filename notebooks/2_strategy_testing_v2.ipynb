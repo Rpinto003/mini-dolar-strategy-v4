{
 "cells": [
  {
   "cell_type": "markdown",
   "metadata": {},
   "source": [
    "# Mini Dollar Strategy - Backtesting and Optimization\n",
    "\n",
    "This notebook demonstrates:\n",
    "1. Strategy backtesting\n",
    "2. Performance analysis\n",
    "3. Parameter optimization\n",
    "4. Results visualization"
  ]
  },
  {
   "cell_type": "code",
   "execution_count": null,
   "metadata": {},
   "source": [
    "import sys\n",
    "sys.path.append('..')\n",
    "\n",
    "import pandas as pd\n",
    "import numpy as np\n",
    "import matplotlib.pyplot as plt\n",
    "import seaborn as sns\n",
    "from datetime import datetime, timedelta\n",
    "from itertools import product\n",
    "\n",
    "from src.agents.coordinator import StrategyCoordinator\n",
    "from src.reporting.performance import PerformanceAnalyzer\n",
    "\n",
    "# Configure plotting\n",
    "plt.style.use('seaborn')\n",
    "plt.rcParams['figure.figsize'] = [12, 6]\n",
    "sns.set_palette('Set2')"
  ]
  },
  {
   "cell_type": "markdown",
   "metadata": {},
   "source": [
    "## 1. Initial Strategy Test"
  ]
  },
  {
   "cell_type": "code",
   "execution_count": null,
   "metadata": {},
   "source": [
    "# Initialize components\n",
    "coordinator = StrategyCoordinator(\n",
    "    initial_balance=100000,\n",
    "    max_position=1,\n",
    "    stop_loss=100,\n",
    "    take_profit=200\n",
    ")\n",
    "\n",
    "analyzer = PerformanceAnalyzer()\n",
    "\n",
    "# Run backtest\n",
    "end_date = datetime.now()\n",
    "start_date = end_date - timedelta(days=180)\n",
    "\n",
    "results = coordinator.backtest(\n",
    "    start_date=start_date.strftime('%Y-%m-%d'),\n",
    "    end_date=end_date.strftime('%Y-%m-%d'),\n",
    "    timeframe='5T'\n",
    ")\n",
    "\n",
    "# Get performance metrics\n",
    "metrics = analyzer.calculate_metrics(results)\n",
    "print(\"\\nPerformance Metrics:\")\n",
    "for metric, value in metrics.items():\n",
    "    print(f\"{metric}: {value:.2f}\")"
  ]
  },
  {
   "cell_type": "markdown",
   "metadata": {},
   "source": [
    "## 2. Detailed Performance Analysis"
  ]
  },
  {
   "cell_type": "code",
   "execution_count": null,
   "metadata": {},
   "source": [
    "# Generate detailed performance report\n",
    "report = analyzer.generate_report(results)\n",
    "print(report)\n",
    "\n",
    "# Plot equity curve and drawdowns\n",
    "analyzer.plot_equity_curve(results)\n",
    "\n",
    "def plot_trade_distribution(results):\n",
    "    \"\"\"Plot distribution of trade profits/losses.\"\"\"\n",
    "    trades = results[results['trade_executed']]['profit']\n",
    "    \n",
    "    plt.figure(figsize=(15, 5))\n",
    "    sns.histplot(trades, bins=50)\n",
    "    plt.title('Trade Profit/Loss Distribution')\n",
    "    plt.xlabel('Points')\n",
    "    plt.grid(True)\n",
    "    plt.show()\n",
    "    \n",
    "    print(\"\\nTrade Statistics:\")\n",
    "    print(f\"Average Trade: {trades.mean():.2f}\")\n",
    "    print(f\"Std Dev: {trades.std():.2f}\")\n",
    "    print(f\"Best Trade: {trades.max():.2f}\")\n",
    "    print(f\"Worst Trade: {trades.min():.2f}\")\n",
    "\n",
    "plot_trade_distribution(results)"
  ]
  },
  {
   "cell_type": "markdown",
   "metadata": {},
   "source": [
    "## 3. Parameter Optimization"
  ]
  },
  {
   "cell_type": "code",
   "execution_count": null,
   "metadata": {},
   "source": [
    "def optimize_parameters(start_date, end_date):\n",
    "    \"\"\"Grid search for optimal parameters.\"\"\"\n",
    "    # Parameter ranges\n",
    "    rsi_periods = [9, 14, 21]\n",
    "    ma_fast_periods = [5, 9, 13]\n",
    "    ma_slow_periods = [21, 34, 55]\n",
    "    stop_losses = [50, 100, 150]\n",
    "    take_profits = [100, 200, 300]\n",
    "    \n",
    "    results = []\n",
    "    \n",
    "    # Grid search\n",
    "    for params in product(rsi_periods, ma_fast_periods, ma_slow_periods, stop_losses, take_profits):\n",
    "        rsi, ma_fast, ma_slow, sl, tp = params\n",
    "        \n",
    "        # Initialize strategy with parameters\n",
    "        coord = StrategyCoordinator(\n",
    "            initial_balance=100000,\n",
    "            max_position=1,\n",
    "            stop_loss=sl,\n",
    "            take_profit=tp\n",
    "        )\n",
    "        \n",
    "        # Run backtest\n",
    "        backtest_results = coord.backtest(\n",
    "            start_date=start_date,\n",
    "            end_date=end_date,\n",
    "            timeframe='5T'\n",
    "        )\n",
    "        \n",
    "        # Calculate metrics\n",
    "        metrics = analyzer.calculate_metrics(backtest_results)\n",
    "        \n",
    "        results.append({\n",
    "            'rsi_period': rsi,\n",
    "            'ma_fast': ma_fast,\n",
    "            'ma_slow': ma_slow,\n",
    "            'stop_loss': sl,\n",
    "            'take_profit': tp,\n",
    "            'total_profit': metrics['total_profit'],\n",
    "            'win_rate': metrics['win_rate'],\n",
    "            'sharpe_ratio': metrics['sharpe_ratio'],\n",
    "            'max_drawdown': metrics['max_drawdown']\n",
    "        })\n",
    "    \n",
    "    # Convert to DataFrame\n",
    "    results_df = pd.DataFrame(results)\n",
    "    return results_df\n",
    "\n",
    "# Run optimization\n",
    "end_date = datetime.now()\n",
    "start_date = end_date - timedelta(days=90)  # 3 months for optimization\n",
    "    \n",
    "optimization_results = optimize_parameters(\n",
    "    start_date=start_date.strftime('%Y-%m-%d'),\n",
    "    end_date=end_date.strftime('%Y-%m-%d')\n",
    ")\n",
    "    \n",
    "# Show top 10 parameter combinations\n",
    "print(\"Top 10 Parameter Combinations by Total Profit:\")\n",
    "print(optimization_results.sort_values('total_profit', ascending=False).head(10))"
  ]
  },
  {
   "cell_type": "markdown",
   "metadata": {},
   "source": [
    "## 4. Analysis of Optimal Parameters"
  ]
  },
  {
   "cell_type": "code",
   "execution_count": null,
   "metadata": {},
   "source": [
    "def analyze_parameter_impact(results_df):\n",
    "    \"\"\"Analyze the impact of different parameters on performance.\"\"\"\n",
    "    # RSI Period Analysis\n",
    "    plt.figure(figsize=(15, 5))\n",
    "    sns.boxplot(x='rsi_period', y='total_profit', data=results_df)\n",
    "    plt.title('RSI Period vs Total Profit')\n",
    "    plt.show()\n",
    "    \n",
    "    # Moving Averages Analysis\n",
    "    plt.figure(figsize=(15, 5))\n",
    "    sns.scatterplot(x='ma_fast', y='ma_slow', size='total_profit', \n",
    "                    hue='win_rate', data=results_df)\n",
    "    plt.title('Moving Averages Periods vs Performance')\n",
    "    plt.show()\n",
    "    \n",
    "    # Stop Loss and Take Profit Analysis\n",
    "    plt.figure(figsize=(15, 5))\n",
    "    sns.scatterplot(x='stop_loss', y='take_profit', size='total_profit',\n",
    "                    hue='sharpe_ratio', data=results_df)\n",
    "    plt.title('Stop Loss vs Take Profit')\n",
    "    plt.show()\n",
    "\n",
    "# Analyze parameter impact\n",
    "analyze_parameter_impact(optimization_results)\n",
    "\n",
    "# Get best parameters\n",
    "best_params = optimization_results.loc[optimization_results['total_profit'].idxmax()]\n",
    "print(\"\\nBest Parameters:\")\n",
    "print(f\"RSI Period: {best_params['rsi_period']}\")\n",
    "print(f\"Fast MA: {best_params['ma_fast']}\")\n",
    "print(f\"Slow MA: {best_params['ma_slow']}\")\n",
    "print(f\"Stop Loss: {best_params['stop_loss']}\")\n",
    "print(f\"Take Profit: {best_params['take_profit']}\")"
  ]
  },
  {
   "cell_type": "markdown",
   "metadata": {},
   "source": [
    "## 5. Out-of-Sample Testing"
  ]
  },
  {
   "cell_type": "code",
   "execution_count": null,
   "metadata": {},
   "source": [
    "# Test optimized strategy on recent data\n",
    "coordinator_optimized = StrategyCoordinator(\n",
    "    initial_balance=100000,\n",
    "    max_position=1,\n",
    "    stop_loss=best_params['stop_loss'],\n",
    "    take_profit=best_params['take_profit']\n",
    ")\n",
    "\n",
    "# Run backtest on recent data\n",
    "end_date = datetime.now()\n",
    "start_date = end_date - timedelta(days=30)  # Last month\n",
    "\n",
    "recent_results = coordinator_optimized.backtest(\n",
    "    start_date=start_date.strftime('%Y-%m-%d'),\n",
    "    end_date=end_date.strftime('%Y-%m-%d'),\n",
    "    timeframe='5T'\n",
    ")\n",
    "\n",
    "# Calculate and show performance\n",
    "recent_metrics = analyzer.calculate_metrics(recent_results)\n",
    "print(\"\\nOut-of-Sample Performance:\")\n",
    "for metric, value in recent_metrics.items():\n",
    "    print(f\"{metric}: {value:.2f}\")\n",
    "\n",
    "# Plot equity curve\n",
    "analyzer.plot_equity_curve(recent_results)"
  ]
  }
 ],
 "metadata": {
  "kernelspec": {
   "display_name": "Python 3",
   "language": "python",
   "name": "python3"
  },
  "language_info": {
   "codemirror_mode": {
    "name": "ipython",
    "version": 3
   },
   "file_extension": ".py",
   "mimetype": "text/x-python",
   "name": "python",
   "nbconvert_exporter": "python",
   "pygments_lexer": "ipython3",
   "version": "3.8.0"
  }
 },
 "nbformat": 4,
 "nbformat_minor": 4
}