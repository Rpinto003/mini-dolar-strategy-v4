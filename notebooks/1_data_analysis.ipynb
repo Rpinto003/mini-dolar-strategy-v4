{
 "cells": [
  {
   "cell_type": "markdown",
   "metadata": {},
   "source": [
    "# Mini Dollar Strategy - Data Analysis and Technical Indicators\n",
    "\n",
    "This notebook demonstrates the loading and analysis of Mini Dollar futures data."
   ]
  },
  {
   "cell_type": "code",
   "execution_count": null,
   "metadata": {},
   "source": [
    "import sys\n",
    "sys.path.append('..')\n",
    "\n",
    "import pandas as pd\n",
    "import numpy as np\n",
    "import matplotlib.pyplot as plt\n",
    "import seaborn as sns\n",
    "\n",
    "from src.data.loaders.market_data import MarketDataLoader\n",
    "from src.analysis.technical.strategy import TechnicalStrategy\n",
    "\n",
    "# Configure plotting\n",
    "plt.style.use('seaborn')\n",
    "sns.set_palette('Set2')"
   ]
  },
  {
   "cell_type": "markdown",
   "metadata": {},
   "source": [
    "## 1. Load Market Data"
   ]
  },
  {
   "cell_type": "code",
   "execution_count": null,
   "metadata": {},
   "source": [
    "# Initialize loader\n",
    "loader = MarketDataLoader()\n",
    "\n",
    "# Load last 6 months of data\n",
    "data = loader.load_data(\n",
    "    start_date='2023-06-01',\n",
    "    end_date='2023-12-31',\n",
    "    timeframe='5T'\n",
    ")\n",
    "\n",
    "print(f\"Loaded {len(data)} candles\")\n",
    "data.head()"
   ]
  }
 ]
}